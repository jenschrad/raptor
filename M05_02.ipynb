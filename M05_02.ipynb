{
 "cells": [
  {
   "cell_type": "code",
   "execution_count": 53,
   "id": "34ec653d",
   "metadata": {},
   "outputs": [
    {
     "name": "stdout",
     "output_type": "stream",
     "text": [
      "Please enter a number: 5\n",
      "Please enter a number: 5\n",
      "Please enter a number: 5\n",
      "Please enter a number: 0\n",
      "The sum of the numbers you entered is: 15\n"
     ]
    }
   ],
   "source": [
    "# this progam will allow a user to enter numerical inputs\n",
    "# continuously until the user enters 0.\n",
    "# the program will then output the sum of the numbers entered.\n",
    "\n",
    "num_sum = 0\n",
    "\n",
    "while True:\n",
    "    num = int(input(\"Please enter a number or 0 to quit: \"))\n",
    "    if num == 0:\n",
    "        break\n",
    "    num_sum += num\n",
    "    \n",
    "print(\"The sum of the numbers you entered is:\", num_sum)\n",
    "    "
   ]
  },
  {
   "cell_type": "code",
   "execution_count": null,
   "id": "a9a3d222",
   "metadata": {},
   "outputs": [],
   "source": []
  },
  {
   "cell_type": "code",
   "execution_count": null,
   "id": "c781cc67",
   "metadata": {},
   "outputs": [],
   "source": []
  }
 ],
 "metadata": {
  "kernelspec": {
   "display_name": "Python 3 (ipykernel)",
   "language": "python",
   "name": "python3"
  },
  "language_info": {
   "codemirror_mode": {
    "name": "ipython",
    "version": 3
   },
   "file_extension": ".py",
   "mimetype": "text/x-python",
   "name": "python",
   "nbconvert_exporter": "python",
   "pygments_lexer": "ipython3",
   "version": "3.9.12"
  }
 },
 "nbformat": 4,
 "nbformat_minor": 5
}
