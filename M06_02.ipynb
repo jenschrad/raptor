{
 "cells": [
  {
   "cell_type": "code",
   "execution_count": 1,
   "id": "e7865c6c",
   "metadata": {},
   "outputs": [
    {
     "name": "stdout",
     "output_type": "stream",
     "text": [
      "Please enter a number: 5\n",
      "Please enter a number: 3\n",
      "Please enter a number: 4\n",
      "Please enter a number: 2\n",
      "Please enter a number: 324\n",
      "Please enter a number: 2\n",
      "Please enter a number: 5\n",
      "Please enter a number: 6\n",
      "Please enter a number: 7\n",
      "Please enter a number: 8\n",
      "Your numbers from smallest to largest:  [2, 2, 3, 4, 5, 5, 6, 7, 8, 324]\n"
     ]
    }
   ],
   "source": [
    "# this program will take 10 numerical inputs from a user\n",
    "# and then will output those numbers from smallest\n",
    "# to largest in an array.\n",
    "\n",
    "# initializing user input variable\n",
    "num_input = 0\n",
    "# initializing array, empty array\n",
    "num_array = []\n",
    "# declaring constant, array size set to 10\n",
    "array_size = 10\n",
    "\n",
    "# loop continues until array size condition is met\n",
    "while len(num_array) < array_size:\n",
    "    num_input = int(input(\"Please enter a number: \"))\n",
    "    # filling the array\n",
    "    num_array.append(num_input)\n",
    "    # sorting array from smallest to largest\n",
    "    num_array.sort()\n",
    "    \n",
    "print(\"Your numbers from smallest to largest: \", num_array)"
   ]
  },
  {
   "cell_type": "code",
   "execution_count": null,
   "id": "2e5cd38c",
   "metadata": {},
   "outputs": [],
   "source": []
  }
 ],
 "metadata": {
  "kernelspec": {
   "display_name": "Python 3 (ipykernel)",
   "language": "python",
   "name": "python3"
  },
  "language_info": {
   "codemirror_mode": {
    "name": "ipython",
    "version": 3
   },
   "file_extension": ".py",
   "mimetype": "text/x-python",
   "name": "python",
   "nbconvert_exporter": "python",
   "pygments_lexer": "ipython3",
   "version": "3.9.12"
  }
 },
 "nbformat": 4,
 "nbformat_minor": 5
}
