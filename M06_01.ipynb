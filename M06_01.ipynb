{
 "cells": [
  {
   "cell_type": "code",
   "execution_count": 9,
   "id": "fb88221e",
   "metadata": {},
   "outputs": [
    {
     "name": "stdout",
     "output_type": "stream",
     "text": [
      "Please enter a number: 4\n",
      "Please enter a number: 3\n",
      "Please enter a number: 2\n",
      "Please enter a number: 3\n",
      "Please enter a number: 2\n",
      "Please enter a number: 1\n",
      "Please enter a number: 2\n",
      "Please enter a number: 3\n",
      "Please enter a number: 2\n",
      "Please enter a number: 1\n",
      "Please enter a number: 3\n",
      "List entered reversed:  [3, 1, 2, 3, 2, 1, 2, 3, 2, 3, 4]\n"
     ]
    }
   ],
   "source": [
    "# this program will take 10 numerical inputs from a user\n",
    "# and then will output those numbers in reverse order \n",
    "# as an array.\n",
    " \n",
    "\n",
    "# initializing user input variable\n",
    "num_input = 0  \n",
    "# intializing array, empty array\n",
    "num_array = []\n",
    "# declaring constant, array size set to 10\n",
    "array_size = 10\n",
    "\n",
    "# loop continues until array size condition is met\n",
    "while len(num_array) < array_size:\n",
    "        num_input = int(input(\"Please enter a number: \"))\n",
    "        # filling the array \n",
    "        num_array.append(num_input)\n",
    "        # reversing array\n",
    "        def Reverse(num_array):\n",
    "            num_array.reverse()\n",
    "            return num_array\n",
    "\n",
    "    \n",
    "print(\"List entered reversed: \", Reverse(num_array))\n",
    "        \n",
    "    "
   ]
  },
  {
   "cell_type": "markdown",
   "id": "7b7d4ba6",
   "metadata": {},
   "source": [
    "## "
   ]
  },
  {
   "cell_type": "code",
   "execution_count": null,
   "id": "d9b8865e",
   "metadata": {},
   "outputs": [],
   "source": []
  },
  {
   "cell_type": "code",
   "execution_count": null,
   "id": "0f2914a6",
   "metadata": {},
   "outputs": [],
   "source": []
  }
 ],
 "metadata": {
  "kernelspec": {
   "display_name": "Python 3 (ipykernel)",
   "language": "python",
   "name": "python3"
  },
  "language_info": {
   "codemirror_mode": {
    "name": "ipython",
    "version": 3
   },
   "file_extension": ".py",
   "mimetype": "text/x-python",
   "name": "python",
   "nbconvert_exporter": "python",
   "pygments_lexer": "ipython3",
   "version": "3.9.12"
  }
 },
 "nbformat": 4,
 "nbformat_minor": 5
}
