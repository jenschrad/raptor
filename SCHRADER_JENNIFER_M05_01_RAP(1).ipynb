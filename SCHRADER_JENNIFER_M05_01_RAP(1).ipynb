{
 "cells": [
  {
   "cell_type": "code",
   "execution_count": 8,
   "id": "12084ce3",
   "metadata": {},
   "outputs": [
    {
     "name": "stdout",
     "output_type": "stream",
     "text": [
      "Please enter a number: 3\n",
      "You entered:  3\n",
      "The sum of cubes 1 through 3 is: 36\n"
     ]
    }
   ],
   "source": [
    "# this program will prompt a user to enter a number\n",
    "# and will then find the cube of each number starting from one\n",
    "# and ending at the entered number.\n",
    "# the program will then find the sum of the cubes and output\n",
    "# the results.\n",
    "\n",
    "cube_sum = 0\n",
    "cube_num = 0\n",
    "n = 0\n",
    "\n",
    "user_num = int(input(\"Please enter a number: \"))\n",
    "print(\"You entered: \", user_num)\n",
    "\n",
    "for n in range(1, user_num+1):\n",
    "    cube_num = n ** 3\n",
    "    cube_sum += cube_num\n",
    "\n",
    "print(\"The sum of cubes 1 through\", user_num,\"is:\", cube_sum, )\n"
   ]
  },
  {
   "cell_type": "markdown",
   "id": "b1a1bacd",
   "metadata": {},
   "source": [
    "###### "
   ]
  },
  {
   "cell_type": "code",
   "execution_count": null,
   "id": "830364c3",
   "metadata": {},
   "outputs": [],
   "source": []
  },
  {
   "cell_type": "code",
   "execution_count": null,
   "id": "71bc8c57",
   "metadata": {},
   "outputs": [],
   "source": []
  }
 ],
 "metadata": {
  "kernelspec": {
   "display_name": "Python 3 (ipykernel)",
   "language": "python",
   "name": "python3"
  },
  "language_info": {
   "codemirror_mode": {
    "name": "ipython",
    "version": 3
   },
   "file_extension": ".py",
   "mimetype": "text/x-python",
   "name": "python",
   "nbconvert_exporter": "python",
   "pygments_lexer": "ipython3",
   "version": "3.9.12"
  }
 },
 "nbformat": 4,
 "nbformat_minor": 5
}
